{
 "cells": [
  {
   "cell_type": "code",
   "execution_count": 52,
   "id": "53ddd972-b1e8-40af-8539-f77f4434ae19",
   "metadata": {
    "execution": {
     "iopub.execute_input": "2022-04-01T02:25:21.769178Z",
     "iopub.status.busy": "2022-04-01T02:25:21.768967Z",
     "iopub.status.idle": "2022-04-01T02:25:21.772180Z",
     "shell.execute_reply": "2022-04-01T02:25:21.771530Z",
     "shell.execute_reply.started": "2022-04-01T02:25:21.769159Z"
    },
    "tags": []
   },
   "outputs": [],
   "source": [
    "import pandas as pd\n",
    "import numpy as np"
   ]
  },
  {
   "cell_type": "code",
   "execution_count": 3,
   "id": "68413498-7f99-431f-b02e-5421b158f144",
   "metadata": {
    "execution": {
     "iopub.execute_input": "2022-04-01T01:59:30.400228Z",
     "iopub.status.busy": "2022-04-01T01:59:30.399917Z",
     "iopub.status.idle": "2022-04-01T01:59:30.802507Z",
     "shell.execute_reply": "2022-04-01T01:59:30.801712Z",
     "shell.execute_reply.started": "2022-04-01T01:59:30.400203Z"
    },
    "tags": []
   },
   "outputs": [
    {
     "name": "stdout",
     "output_type": "stream",
     "text": [
      "MASTER_TRAFFIC_COUNT.csv\n"
     ]
    }
   ],
   "source": [
    "%ls data"
   ]
  },
  {
   "cell_type": "code",
   "execution_count": 74,
   "id": "86bf8f9a-9b17-431d-813e-f69cd7350bd0",
   "metadata": {
    "execution": {
     "iopub.execute_input": "2022-04-06T19:19:11.069852Z",
     "iopub.status.busy": "2022-04-06T19:19:11.061191Z",
     "iopub.status.idle": "2022-04-06T19:19:11.713375Z",
     "shell.execute_reply": "2022-04-06T19:19:11.712213Z",
     "shell.execute_reply.started": "2022-04-06T19:19:11.069732Z"
    },
    "tags": []
   },
   "outputs": [],
   "source": [
    "data = pd.read_csv(\n",
    "    \"./data/MASTER_TRAFFIC_COUNT.csv\",\n",
    "    low_memory=False,\n",
    "    usecols=[\n",
    "        \"Main Location\",\n",
    "        \"Locator\",\n",
    "        \"Second Location\",\n",
    "        \"Date\",\n",
    "        \"Dir\",\n",
    "        \"Volume\",\n",
    "        \"AM PHV\",\n",
    "        \"PM PHV\",\n",
    "        \"ADT\",\n",
    "        \"AAWDT\",\n",
    "        \"AAWET\",\n",
    "    ],\n",
    "    parse_dates=[\"Date\"],\n",
    "    dtype={\n",
    "        \"Dir\": \"category\",\n",
    "        \"Locator\": \"category\",\n",
    "        \"Volume\": pd.Int64Dtype(),\n",
    "    },\n",
    ")\n",
    "data = data.dropna(axis=\"columns\", how=\"all\")"
   ]
  },
  {
   "cell_type": "code",
   "execution_count": 57,
   "id": "b86dc1c0-a9aa-4097-9089-335d2e5c28d0",
   "metadata": {
    "execution": {
     "iopub.execute_input": "2022-04-01T02:29:40.105022Z",
     "iopub.status.busy": "2022-04-01T02:29:40.104767Z",
     "iopub.status.idle": "2022-04-01T02:29:40.118074Z",
     "shell.execute_reply": "2022-04-01T02:29:40.117606Z",
     "shell.execute_reply.started": "2022-04-01T02:29:40.104998Z"
    },
    "tags": []
   },
   "outputs": [
    {
     "data": {
      "text/html": [
       "<div>\n",
       "<style scoped>\n",
       "    .dataframe tbody tr th:only-of-type {\n",
       "        vertical-align: middle;\n",
       "    }\n",
       "\n",
       "    .dataframe tbody tr th {\n",
       "        vertical-align: top;\n",
       "    }\n",
       "\n",
       "    .dataframe thead th {\n",
       "        text-align: right;\n",
       "    }\n",
       "</style>\n",
       "<table border=\"1\" class=\"dataframe\">\n",
       "  <thead>\n",
       "    <tr style=\"text-align: right;\">\n",
       "      <th></th>\n",
       "      <th>Main Location</th>\n",
       "      <th>Locator</th>\n",
       "      <th>Second Location</th>\n",
       "      <th>Date</th>\n",
       "      <th>Dir</th>\n",
       "      <th>Volume</th>\n",
       "      <th>AM PHV</th>\n",
       "      <th>PM PHV</th>\n",
       "      <th>ADT</th>\n",
       "      <th>AAWDT</th>\n",
       "      <th>AAWET</th>\n",
       "    </tr>\n",
       "  </thead>\n",
       "  <tbody>\n",
       "    <tr>\n",
       "      <th>0</th>\n",
       "      <td>S DAHLIA ST</td>\n",
       "      <td>BETWEEN</td>\n",
       "      <td>E ALAMEDA AVE &amp; LEETSDALE DR</td>\n",
       "      <td>2015-11-10</td>\n",
       "      <td>SB</td>\n",
       "      <td>&lt;NA&gt;</td>\n",
       "      <td>194.0</td>\n",
       "      <td>307.0</td>\n",
       "      <td>NaN</td>\n",
       "      <td>2771</td>\n",
       "      <td>NaN</td>\n",
       "    </tr>\n",
       "    <tr>\n",
       "      <th>1</th>\n",
       "      <td>LEETSDALE DR</td>\n",
       "      <td>BETWEEN</td>\n",
       "      <td>S DAHLIA ST &amp; S ELM ST</td>\n",
       "      <td>2015-11-10</td>\n",
       "      <td>WB</td>\n",
       "      <td>&lt;NA&gt;</td>\n",
       "      <td>1510.0</td>\n",
       "      <td>1113.0</td>\n",
       "      <td>NaN</td>\n",
       "      <td>17251</td>\n",
       "      <td>NaN</td>\n",
       "    </tr>\n",
       "    <tr>\n",
       "      <th>2</th>\n",
       "      <td>LEETSDALE DR</td>\n",
       "      <td>BETWEEN</td>\n",
       "      <td>S DAHLIA ST &amp; S CHERRY ST</td>\n",
       "      <td>2015-11-10</td>\n",
       "      <td>EB</td>\n",
       "      <td>&lt;NA&gt;</td>\n",
       "      <td>1003.0</td>\n",
       "      <td>1468.0</td>\n",
       "      <td>NaN</td>\n",
       "      <td>17204</td>\n",
       "      <td>NaN</td>\n",
       "    </tr>\n",
       "    <tr>\n",
       "      <th>3</th>\n",
       "      <td>E FLORIDA AVE</td>\n",
       "      <td>BETWEEN</td>\n",
       "      <td>S PENNSYLVAINIA ST &amp; S LOGAN ST</td>\n",
       "      <td>2015-11-06</td>\n",
       "      <td>EB</td>\n",
       "      <td>&lt;NA&gt;</td>\n",
       "      <td>31.0</td>\n",
       "      <td>40.0</td>\n",
       "      <td>NaN</td>\n",
       "      <td>448</td>\n",
       "      <td>NaN</td>\n",
       "    </tr>\n",
       "    <tr>\n",
       "      <th>4</th>\n",
       "      <td>E FLORIDA AVE</td>\n",
       "      <td>BETWEEN</td>\n",
       "      <td>S PENNSYLVAINIA ST &amp; S LOGAN ST</td>\n",
       "      <td>2015-11-06</td>\n",
       "      <td>WB</td>\n",
       "      <td>&lt;NA&gt;</td>\n",
       "      <td>53.0</td>\n",
       "      <td>86.0</td>\n",
       "      <td>NaN</td>\n",
       "      <td>890</td>\n",
       "      <td>NaN</td>\n",
       "    </tr>\n",
       "  </tbody>\n",
       "</table>\n",
       "</div>"
      ],
      "text/plain": [
       "   Main Location  Locator                  Second Location       Date Dir  \\\n",
       "0    S DAHLIA ST  BETWEEN     E ALAMEDA AVE & LEETSDALE DR 2015-11-10  SB   \n",
       "1   LEETSDALE DR  BETWEEN           S DAHLIA ST & S ELM ST 2015-11-10  WB   \n",
       "2   LEETSDALE DR  BETWEEN        S DAHLIA ST & S CHERRY ST 2015-11-10  EB   \n",
       "3  E FLORIDA AVE  BETWEEN  S PENNSYLVAINIA ST & S LOGAN ST 2015-11-06  EB   \n",
       "4  E FLORIDA AVE  BETWEEN  S PENNSYLVAINIA ST & S LOGAN ST 2015-11-06  WB   \n",
       "\n",
       "   Volume  AM PHV  PM PHV  ADT  AAWDT AAWET  \n",
       "0    <NA>   194.0   307.0  NaN   2771   NaN  \n",
       "1    <NA>  1510.0  1113.0  NaN  17251   NaN  \n",
       "2    <NA>  1003.0  1468.0  NaN  17204   NaN  \n",
       "3    <NA>    31.0    40.0  NaN    448   NaN  \n",
       "4    <NA>    53.0    86.0  NaN    890   NaN  "
      ]
     },
     "execution_count": 57,
     "metadata": {},
     "output_type": "execute_result"
    }
   ],
   "source": [
    "data.head()"
   ]
  },
  {
   "cell_type": "code",
   "execution_count": 58,
   "id": "a9f55b7e-5cff-4fca-baec-fa45bd4945a4",
   "metadata": {
    "execution": {
     "iopub.execute_input": "2022-04-01T02:29:50.913597Z",
     "iopub.status.busy": "2022-04-01T02:29:50.913090Z",
     "iopub.status.idle": "2022-04-01T02:29:50.919608Z",
     "shell.execute_reply": "2022-04-01T02:29:50.919102Z",
     "shell.execute_reply.started": "2022-04-01T02:29:50.913573Z"
    },
    "tags": []
   },
   "outputs": [
    {
     "data": {
      "text/plain": [
       "48TH AVE             300\n",
       "ALAMEDA              292\n",
       "COLORADO BLVD        266\n",
       "EVANS                255\n",
       "YOSEMITE ST          184\n",
       "                    ... \n",
       "JACKSON ST             1\n",
       "E35TH AVE              1\n",
       "E 35TH AVE             1\n",
       "MEXICO AVE             1\n",
       "EASE DAKOTA   AVE      1\n",
       "Name: Main Location, Length: 649, dtype: int64"
      ]
     },
     "execution_count": 58,
     "metadata": {},
     "output_type": "execute_result"
    }
   ],
   "source": [
    "data[\"Main Location\"].value_counts()"
   ]
  },
  {
   "cell_type": "code",
   "execution_count": 66,
   "id": "1ffe821c-6bc3-4892-9316-bc5f9c9d3337",
   "metadata": {
    "execution": {
     "iopub.execute_input": "2022-04-01T02:36:06.723275Z",
     "iopub.status.busy": "2022-04-01T02:36:06.723042Z",
     "iopub.status.idle": "2022-04-01T02:36:06.732586Z",
     "shell.execute_reply": "2022-04-01T02:36:06.732004Z",
     "shell.execute_reply.started": "2022-04-01T02:36:06.723251Z"
    },
    "tags": []
   },
   "outputs": [],
   "source": [
    "broadway_and_evans = data[\n",
    "    data[\"Main Location\"].apply(lambda x: \"BROADWAY\" in x)\n",
    "    & data[\"Second Location\"].apply(lambda x: \"EVANS\" in x)\n",
    "    & data[\"Locator\"].apply(lambda x: \"S/O\" == x or \"N/O\" == x)\n",
    "]"
   ]
  },
  {
   "cell_type": "code",
   "execution_count": 70,
   "id": "eb1c0f17-9a9e-423e-8192-50d18358cd80",
   "metadata": {
    "execution": {
     "iopub.execute_input": "2022-04-01T02:41:58.172307Z",
     "iopub.status.busy": "2022-04-01T02:41:58.172070Z",
     "iopub.status.idle": "2022-04-01T02:41:58.186117Z",
     "shell.execute_reply": "2022-04-01T02:41:58.185589Z",
     "shell.execute_reply.started": "2022-04-01T02:41:58.172281Z"
    },
    "tags": []
   },
   "outputs": [
    {
     "data": {
      "text/html": [
       "<div>\n",
       "<style scoped>\n",
       "    .dataframe tbody tr th:only-of-type {\n",
       "        vertical-align: middle;\n",
       "    }\n",
       "\n",
       "    .dataframe tbody tr th {\n",
       "        vertical-align: top;\n",
       "    }\n",
       "\n",
       "    .dataframe thead th {\n",
       "        text-align: right;\n",
       "    }\n",
       "</style>\n",
       "<table border=\"1\" class=\"dataframe\">\n",
       "  <thead>\n",
       "    <tr style=\"text-align: right;\">\n",
       "      <th></th>\n",
       "      <th>Main Location</th>\n",
       "      <th>Locator</th>\n",
       "      <th>Second Location</th>\n",
       "      <th>Date</th>\n",
       "      <th>Dir</th>\n",
       "      <th>Volume</th>\n",
       "      <th>AM PHV</th>\n",
       "      <th>PM PHV</th>\n",
       "      <th>ADT</th>\n",
       "      <th>AAWDT</th>\n",
       "      <th>AAWET</th>\n",
       "    </tr>\n",
       "  </thead>\n",
       "  <tbody>\n",
       "    <tr>\n",
       "      <th>3462</th>\n",
       "      <td>BROADWAY</td>\n",
       "      <td>N/O</td>\n",
       "      <td>EVANS</td>\n",
       "      <td>2008-02-07</td>\n",
       "      <td>S/B</td>\n",
       "      <td>14118</td>\n",
       "      <td>840.0</td>\n",
       "      <td>1492.0</td>\n",
       "      <td>NaN</td>\n",
       "      <td>NaN</td>\n",
       "      <td>NaN</td>\n",
       "    </tr>\n",
       "    <tr>\n",
       "      <th>3469</th>\n",
       "      <td>BROADWAY</td>\n",
       "      <td>N/O</td>\n",
       "      <td>EVANS</td>\n",
       "      <td>2008-02-06</td>\n",
       "      <td>S/B</td>\n",
       "      <td>14409</td>\n",
       "      <td>826.0</td>\n",
       "      <td>1562.0</td>\n",
       "      <td>NaN</td>\n",
       "      <td>NaN</td>\n",
       "      <td>NaN</td>\n",
       "    </tr>\n",
       "    <tr>\n",
       "      <th>3476</th>\n",
       "      <td>BROADWAY</td>\n",
       "      <td>N/O</td>\n",
       "      <td>EVANS</td>\n",
       "      <td>2008-02-05</td>\n",
       "      <td>S/B</td>\n",
       "      <td>12060</td>\n",
       "      <td>673.0</td>\n",
       "      <td>1283.0</td>\n",
       "      <td>NaN</td>\n",
       "      <td>NaN</td>\n",
       "      <td>NaN</td>\n",
       "    </tr>\n",
       "    <tr>\n",
       "      <th>3500</th>\n",
       "      <td>BROADWAY</td>\n",
       "      <td>N/O</td>\n",
       "      <td>EVANS</td>\n",
       "      <td>2008-01-17</td>\n",
       "      <td>S/B</td>\n",
       "      <td>13077</td>\n",
       "      <td>815.0</td>\n",
       "      <td>1321.0</td>\n",
       "      <td>NaN</td>\n",
       "      <td>NaN</td>\n",
       "      <td>NaN</td>\n",
       "    </tr>\n",
       "    <tr>\n",
       "      <th>3512</th>\n",
       "      <td>BROADWAY</td>\n",
       "      <td>N/O</td>\n",
       "      <td>EVANS</td>\n",
       "      <td>2008-01-16</td>\n",
       "      <td>S/B</td>\n",
       "      <td>12771</td>\n",
       "      <td>780.0</td>\n",
       "      <td>1307.0</td>\n",
       "      <td>NaN</td>\n",
       "      <td>NaN</td>\n",
       "      <td>NaN</td>\n",
       "    </tr>\n",
       "  </tbody>\n",
       "</table>\n",
       "</div>"
      ],
      "text/plain": [
       "     Main Location Locator Second Location       Date  Dir  Volume  AM PHV  \\\n",
       "3462     BROADWAY      N/O           EVANS 2008-02-07  S/B   14118   840.0   \n",
       "3469     BROADWAY      N/O           EVANS 2008-02-06  S/B   14409   826.0   \n",
       "3476     BROADWAY      N/O           EVANS 2008-02-05  S/B   12060   673.0   \n",
       "3500     BROADWAY      N/O           EVANS 2008-01-17  S/B   13077   815.0   \n",
       "3512     BROADWAY      N/O           EVANS 2008-01-16  S/B   12771   780.0   \n",
       "\n",
       "      PM PHV  ADT AAWDT AAWET  \n",
       "3462  1492.0  NaN   NaN   NaN  \n",
       "3469  1562.0  NaN   NaN   NaN  \n",
       "3476  1283.0  NaN   NaN   NaN  \n",
       "3500  1321.0  NaN   NaN   NaN  \n",
       "3512  1307.0  NaN   NaN   NaN  "
      ]
     },
     "execution_count": 70,
     "metadata": {},
     "output_type": "execute_result"
    }
   ],
   "source": [
    "broadway_and_evans.head()"
   ]
  },
  {
   "cell_type": "code",
   "execution_count": 73,
   "id": "fc230002-d9fc-4ddc-9a4e-f5ab64ee2c1b",
   "metadata": {
    "execution": {
     "iopub.execute_input": "2022-04-01T02:49:36.363795Z",
     "iopub.status.busy": "2022-04-01T02:49:36.363526Z",
     "iopub.status.idle": "2022-04-01T02:49:36.615768Z",
     "shell.execute_reply": "2022-04-01T02:49:36.615112Z",
     "shell.execute_reply.started": "2022-04-01T02:49:36.363757Z"
    }
   },
   "outputs": [
    {
     "data": {
      "text/plain": [
       "<AxesSubplot:xlabel='Date'>"
      ]
     },
     "execution_count": 73,
     "metadata": {},
     "output_type": "execute_result"
    },
    {
     "data": {
      "image/png": "[encoded data removed]",
      "text/plain": [
       "<Figure size 432x288 with 1 Axes>"
      ]
     },
     "metadata": {
      "image/png": {
       "height": 263,
       "width": 388
      },
      "needs_background": "light"
     },
     "output_type": "display_data"
    }
   ],
   "source": [
    "broadway_and_evans.plot(x=\"Date\", y=\"Volume\")"
   ]
  },
  {
   "cell_type": "code",
   "execution_count": 71,
   "id": "a391d9c0-4fc4-4e98-aad2-3472ec0fa97f",
   "metadata": {
    "execution": {
     "iopub.execute_input": "2022-04-01T02:42:02.100797Z",
     "iopub.status.busy": "2022-04-01T02:42:02.100585Z",
     "iopub.status.idle": "2022-04-01T02:42:02.286919Z",
     "shell.execute_reply": "2022-04-01T02:42:02.286344Z",
     "shell.execute_reply.started": "2022-04-01T02:42:02.100779Z"
    },
    "tags": []
   },
   "outputs": [
    {
     "data": {
      "text/plain": [
       "<AxesSubplot:ylabel='Frequency'>"
      ]
     },
     "execution_count": 71,
     "metadata": {},
     "output_type": "execute_result"
    },
    {
     "data": {
      "image/png": "[encoded data removed]",
      "text/plain": [
       "<Figure size 432x288 with 1 Axes>"
      ]
     },
     "metadata": {
      "image/png": {
       "height": 248,
       "width": 392
      },
      "needs_background": "light"
     },
     "output_type": "display_data"
    }
   ],
   "source": [
    "broadway_and_evans[\"AM PHV\"].dropna().plot.hist()"
   ]
  },
  {
   "cell_type": "code",
   "execution_count": 72,
   "id": "1fe4484d-2605-47dc-a7a5-9af12119bff8",
   "metadata": {
    "execution": {
     "iopub.execute_input": "2022-04-01T02:42:02.340313Z",
     "iopub.status.busy": "2022-04-01T02:42:02.340049Z",
     "iopub.status.idle": "2022-04-01T02:42:02.513353Z",
     "shell.execute_reply": "2022-04-01T02:42:02.512792Z",
     "shell.execute_reply.started": "2022-04-01T02:42:02.340285Z"
    },
    "tags": []
   },
   "outputs": [
    {
     "data": {
      "text/plain": [
       "<AxesSubplot:ylabel='Frequency'>"
      ]
     },
     "execution_count": 72,
     "metadata": {},
     "output_type": "execute_result"
    },
    {
     "data": {
      "image/png": "[encoded data removed]",
      "text/plain": [
       "<Figure size 432x288 with 1 Axes>"
      ]
     },
     "metadata": {
      "image/png": {
       "height": 248,
       "width": 382
      },
      "needs_background": "light"
     },
     "output_type": "display_data"
    }
   ],
   "source": [
    "broadway_and_evans[\"PM PHV\"].dropna().plot.hist()"
   ]
  },
  {
   "cell_type": "code",
   "execution_count": null,
   "id": "23198886-f0ee-444b-808a-a900cba4f777",
   "metadata": {},
   "outputs": [],
   "source": []
  }
 ],
 "metadata": {
  "kernelspec": {
   "display_name": "Python 3 (ipykernel)",
   "language": "python",
   "name": "python3"
  },
  "language_info": {
   "codemirror_mode": {
    "name": "ipython",
    "version": 3
   },
   "file_extension": ".py",
   "mimetype": "text/x-python",
   "name": "python",
   "nbconvert_exporter": "python",
   "pygments_lexer": "ipython3",
   "version": "3.9.10"
  }
 },
 "nbformat": 4,
 "nbformat_minor": 5
}
